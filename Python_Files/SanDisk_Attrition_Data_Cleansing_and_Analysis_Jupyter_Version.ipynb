{
 "cells": [
  {
   "cell_type": "code",
   "execution_count": 32,
   "metadata": {
    "id": "CxNZZjKYW4Gi"
   },
   "outputs": [],
   "source": [
    "import numpy as np\n",
    "import pandas as pd\n",
    "import matplotlib.pyplot as plt\n",
    "import seaborn as sns\n",
    "\n",
    "from pandas import Series, DataFrame"
   ]
  },
  {
   "cell_type": "code",
   "execution_count": 33,
   "metadata": {
    "id": "OlQh8kTnXILb"
   },
   "outputs": [],
   "source": [
    "sdAttr = pd.read_csv(\"SanDisk_Attrition_Original.csv\")"
   ]
  },
  {
   "cell_type": "code",
   "execution_count": 34,
   "metadata": {
    "colab": {
     "base_uri": "https://localhost:8080/"
    },
    "id": "JoA2LGPAX0AO",
    "outputId": "0a7d6510-fabd-4713-f0c8-775138670424"
   },
   "outputs": [
    {
     "data": {
      "text/plain": [
       "(1340, 51)"
      ]
     },
     "execution_count": 34,
     "metadata": {},
     "output_type": "execute_result"
    }
   ],
   "source": [
    "sdAttr.shape"
   ]
  },
  {
   "cell_type": "markdown",
   "metadata": {
    "id": "0_nJQReyuyN3"
   },
   "source": [
    "**Data Cleansing**"
   ]
  },
  {
   "cell_type": "code",
   "execution_count": 35,
   "metadata": {
    "id": "b-oMSl-Qin3a"
   },
   "outputs": [],
   "source": [
    "# The following data cleaning steps can be run:\n",
    "\n",
    "# 1) Remove duplicate rows from the given dataset\n",
    "# 2) Round up the Risk Factor column to 2 decimal places\\n\n",
    "# 3) Drop duplicate rows again"
   ]
  },
  {
   "cell_type": "code",
   "execution_count": 36,
   "metadata": {
    "id": "0TPGrFZVX032"
   },
   "outputs": [],
   "source": [
    "# Step 1: Drops the duplicate rows\n",
    "sdAttr_1 = sdAttr.drop_duplicates()"
   ]
  },
  {
   "cell_type": "code",
   "execution_count": 37,
   "metadata": {
    "colab": {
     "base_uri": "https://localhost:8080/"
    },
    "id": "YnF54YsMeIN3",
    "outputId": "c4a281bb-6595-4e10-f455-181b6c2721ed"
   },
   "outputs": [
    {
     "data": {
      "text/plain": [
       "(1232, 51)"
      ]
     },
     "execution_count": 37,
     "metadata": {},
     "output_type": "execute_result"
    }
   ],
   "source": [
    "sdAttr_1.shape"
   ]
  },
  {
   "cell_type": "code",
   "execution_count": 38,
   "metadata": {
    "id": "HkudXK8Zb2cj"
   },
   "outputs": [],
   "source": [
    "# Step 2a: Rounding up the Risk Factors to two decimal places\n",
    "RefRf = sdAttr_1['Rf'].apply(lambda x: round(x, 2))"
   ]
  },
  {
   "cell_type": "code",
   "execution_count": 39,
   "metadata": {
    "colab": {
     "base_uri": "https://localhost:8080/"
    },
    "id": "lg1BSyTqdVQz",
    "outputId": "f8704179-0845-448f-e412-ef216db66df1"
   },
   "outputs": [
    {
     "name": "stderr",
     "output_type": "stream",
     "text": [
      "C:\\ProgramData\\Anaconda3\\lib\\site-packages\\ipykernel_launcher.py:2: SettingWithCopyWarning: \n",
      "A value is trying to be set on a copy of a slice from a DataFrame.\n",
      "Try using .loc[row_indexer,col_indexer] = value instead\n",
      "\n",
      "See the caveats in the documentation: https://pandas.pydata.org/pandas-docs/stable/user_guide/indexing.html#returning-a-view-versus-a-copy\n",
      "  \n"
     ]
    }
   ],
   "source": [
    "# Step 2b: Adding a new column for the new Risk Factor\n",
    "sdAttr_1['NewRf'] = RefRf"
   ]
  },
  {
   "cell_type": "code",
   "execution_count": 40,
   "metadata": {
    "colab": {
     "base_uri": "https://localhost:8080/"
    },
    "id": "Or17MP_udikE",
    "outputId": "32d707d8-a435-4a0a-a9bd-70d1e00ecba6"
   },
   "outputs": [
    {
     "data": {
      "text/plain": [
       "(1232, 52)"
      ]
     },
     "execution_count": 40,
     "metadata": {},
     "output_type": "execute_result"
    }
   ],
   "source": [
    "sdAttr_1.shape"
   ]
  },
  {
   "cell_type": "code",
   "execution_count": 41,
   "metadata": {
    "colab": {
     "base_uri": "https://localhost:8080/"
    },
    "id": "mD4uFOVJdluD",
    "outputId": "ba86d0e2-64ef-4a81-c3fc-c61288d47e7e"
   },
   "outputs": [
    {
     "name": "stderr",
     "output_type": "stream",
     "text": [
      "C:\\ProgramData\\Anaconda3\\lib\\site-packages\\pandas\\core\\frame.py:3997: SettingWithCopyWarning: \n",
      "A value is trying to be set on a copy of a slice from a DataFrame\n",
      "\n",
      "See the caveats in the documentation: https://pandas.pydata.org/pandas-docs/stable/user_guide/indexing.html#returning-a-view-versus-a-copy\n",
      "  errors=errors,\n"
     ]
    }
   ],
   "source": [
    "# Step 2c: Drop the 'Rf' column\n",
    "sdAttr_1.drop(['Rf'], axis = 1, inplace = True)"
   ]
  },
  {
   "cell_type": "code",
   "execution_count": 42,
   "metadata": {
    "colab": {
     "base_uri": "https://localhost:8080/"
    },
    "id": "3drdktGKdscD",
    "outputId": "4865c977-18ea-4113-9a15-2c91e2b4268c"
   },
   "outputs": [
    {
     "name": "stderr",
     "output_type": "stream",
     "text": [
      "C:\\ProgramData\\Anaconda3\\lib\\site-packages\\pandas\\core\\frame.py:4133: SettingWithCopyWarning: \n",
      "A value is trying to be set on a copy of a slice from a DataFrame\n",
      "\n",
      "See the caveats in the documentation: https://pandas.pydata.org/pandas-docs/stable/user_guide/indexing.html#returning-a-view-versus-a-copy\n",
      "  errors=errors,\n"
     ]
    }
   ],
   "source": [
    "# Step 2d: Rename the column 'NewRf' to 'Rf'\n",
    "sdAttr_1.rename(columns = {'NewRf': 'Rf'}, inplace = True)"
   ]
  },
  {
   "cell_type": "code",
   "execution_count": 43,
   "metadata": {
    "id": "IDjciB-Te4_1"
   },
   "outputs": [],
   "source": [
    "# Step 3: Obtain the final dataset after dropping duplicates again\n",
    "sdAttrFinal = sdAttr_1.drop_duplicates()"
   ]
  },
  {
   "cell_type": "code",
   "execution_count": 44,
   "metadata": {
    "colab": {
     "base_uri": "https://localhost:8080/"
    },
    "id": "aUufOf6NhZVW",
    "outputId": "7a4f546f-74e0-43d7-b9c9-0c8a7a523b85"
   },
   "outputs": [
    {
     "data": {
      "text/plain": [
       "(1196, 51)"
      ]
     },
     "execution_count": 44,
     "metadata": {},
     "output_type": "execute_result"
    }
   ],
   "source": [
    "sdAttrFinal.shape"
   ]
  },
  {
   "cell_type": "markdown",
   "metadata": {
    "id": "kjF_sBqCu7-k"
   },
   "source": [
    "**Data Analysis**"
   ]
  },
  {
   "cell_type": "code",
   "execution_count": 45,
   "metadata": {
    "id": "7mSRI6hQhfaX"
   },
   "outputs": [],
   "source": [
    "# Attrition is defined as the process of employees leaving the organization\n",
    "\n",
    "# Attrition rate or percent is defined as the percentage of employees\n",
    "# the organization lost and did not replace"
   ]
  },
  {
   "cell_type": "code",
   "execution_count": 46,
   "metadata": {
    "id": "dAX3LtgGvy8t"
   },
   "outputs": [],
   "source": [
    "# Some analysis that could not be covered using Tableau are covered here.\n",
    "\n",
    "# One of our primary objective is to find out the Attrition rate year-on-year."
   ]
  },
  {
   "cell_type": "code",
   "execution_count": 47,
   "metadata": {
    "id": "cRjrDD0Owex2"
   },
   "outputs": [],
   "source": [
    "# Number of unique employees in each year\n",
    "YrIdGp = sdAttrFinal.groupby(\"Year\")[\"Id\"].unique()"
   ]
  },
  {
   "cell_type": "code",
   "execution_count": 48,
   "metadata": {
    "colab": {
     "base_uri": "https://localhost:8080/"
    },
    "id": "0nTya9whwp0N",
    "outputId": "3cb5792d-29e6-41cf-e66b-bc93a59bc161"
   },
   "outputs": [
    {
     "name": "stdout",
     "output_type": "stream",
     "text": [
      "Year\n",
      "2012    [181994, 185184, 189491, 11410, 186257, 181955...\n",
      "2013    [11410, 185891, 186257, 185949, 186056, 181445...\n",
      "2014    [185891, 189498, 11192, 185949, 186056, 181445...\n",
      "Name: Id, dtype: object\n"
     ]
    }
   ],
   "source": [
    "# A series of employees year-wise\n",
    "print(YrIdGp)"
   ]
  },
  {
   "cell_type": "code",
   "execution_count": 49,
   "metadata": {
    "id": "mG-3gsNL0Arp"
   },
   "outputs": [],
   "source": [
    "YearTotEmp = []\n",
    "YearTotEmp.extend([len(YrIdGp[2012]), len(YrIdGp[2013]), len(YrIdGp[2014])])"
   ]
  },
  {
   "cell_type": "code",
   "execution_count": 50,
   "metadata": {
    "colab": {
     "base_uri": "https://localhost:8080/"
    },
    "id": "Jkmex2jw0sUa",
    "outputId": "2f4b33ee-4f60-4cf2-862a-d3fb8f402725"
   },
   "outputs": [
    {
     "name": "stdout",
     "output_type": "stream",
     "text": [
      "[405, 374, 344]\n"
     ]
    }
   ],
   "source": [
    "print(YearTotEmp)"
   ]
  },
  {
   "cell_type": "code",
   "execution_count": 51,
   "metadata": {
    "id": "ordLXT-Mwrds"
   },
   "outputs": [],
   "source": [
    "# Method 'setdiff1d' gives the elements in list1 that are not present in list2\n",
    "AttrCountYear = [0]\n",
    "\n",
    "AttrCountYear.append(len(np.setdiff1d(YrIdGp[2012], YrIdGp[2013])))\n",
    "AttrCountYear.append(len(np.setdiff1d(YrIdGp[2013], YrIdGp[2014])))"
   ]
  },
  {
   "cell_type": "code",
   "execution_count": 52,
   "metadata": {
    "colab": {
     "base_uri": "https://localhost:8080/"
    },
    "id": "ZnoqQUsZxda6",
    "outputId": "47f40e7d-2035-4557-db79-9dc20001c423"
   },
   "outputs": [
    {
     "data": {
      "text/plain": [
       "[0, 206, 192]"
      ]
     },
     "execution_count": 52,
     "metadata": {},
     "output_type": "execute_result"
    }
   ],
   "source": [
    "# The list contains the attrition count year-on-year\n",
    "AttrCountYear"
   ]
  },
  {
   "cell_type": "code",
   "execution_count": 53,
   "metadata": {
    "id": "6P-guGnaxe7t"
   },
   "outputs": [],
   "source": [
    "# The number of original employees at the starting of the year\n",
    "YrOrigEmp = []\n",
    "YrOrigEmp.extend([YearTotEmp[0],\n",
    "                  YearTotEmp[0] - AttrCountYear[1],\n",
    "                  YearTotEmp[1] - AttrCountYear[2]])"
   ]
  },
  {
   "cell_type": "code",
   "execution_count": 54,
   "metadata": {
    "colab": {
     "base_uri": "https://localhost:8080/"
    },
    "id": "pGoXVx4M2Qdm",
    "outputId": "28f8d38e-85f1-4424-f021-d75a6ac1fb3a"
   },
   "outputs": [
    {
     "data": {
      "text/plain": [
       "[405, 199, 182]"
      ]
     },
     "execution_count": 54,
     "metadata": {},
     "output_type": "execute_result"
    }
   ],
   "source": [
    "# List containing the number of employees at the starting of\n",
    "# each year after deducting the attritions of the previous year.\n",
    "YrOrigEmp"
   ]
  },
  {
   "cell_type": "code",
   "execution_count": 55,
   "metadata": {
    "id": "a1V_Efn92Q_M"
   },
   "outputs": [],
   "source": [
    "# The number of hires in each of the years\n",
    "YrHires = []\n",
    "index = 0\n",
    "\n",
    "while(index < 3):\n",
    "  YrHires.append(YearTotEmp[index] - YrOrigEmp[index])\n",
    "  index = index + 1"
   ]
  },
  {
   "cell_type": "code",
   "execution_count": 56,
   "metadata": {
    "colab": {
     "base_uri": "https://localhost:8080/"
    },
    "id": "jSLrJjWu2wZX",
    "outputId": "09c5b02f-252d-4cb5-e922-ebc3adacc3c7"
   },
   "outputs": [
    {
     "data": {
      "text/plain": [
       "[0, 175, 162]"
      ]
     },
     "execution_count": 56,
     "metadata": {},
     "output_type": "execute_result"
    }
   ],
   "source": [
    "# List containing the number of hires in each year\n",
    "YrHires"
   ]
  },
  {
   "cell_type": "code",
   "execution_count": 57,
   "metadata": {
    "id": "4AWVpuuK2w5l"
   },
   "outputs": [],
   "source": [
    "# Calculating the attrition rate\n",
    "\n",
    "# Formula for calculating the attrition rate = \n",
    "# ((Number of employees who left in the period) / (Average of the number of employees in the period)) * 100\n",
    "\n",
    "AttrRateList = [0]\n",
    "index = 1\n",
    "\n",
    "while (index < 3):\n",
    "  AttrRate = ((YearTotEmp[index - 1] - YearTotEmp[index]) /\n",
    "              ((YearTotEmp[index - 1] + YearTotEmp[index]) / 2)) * 100\n",
    "  AttrRateList.append(round(AttrRate, 2))\n",
    "  index = index + 1\n"
   ]
  },
  {
   "cell_type": "code",
   "execution_count": 58,
   "metadata": {
    "colab": {
     "base_uri": "https://localhost:8080/"
    },
    "id": "PjHwkqRs4dnT",
    "outputId": "f22ae5a2-809c-4f93-cfe9-905707ff8e5d"
   },
   "outputs": [
    {
     "data": {
      "text/plain": [
       "[0, 7.96, 8.36]"
      ]
     },
     "execution_count": 58,
     "metadata": {},
     "output_type": "execute_result"
    }
   ],
   "source": [
    "# Attrition Rate year-on-year\n",
    "AttrRateList"
   ]
  },
  {
   "cell_type": "code",
   "execution_count": 59,
   "metadata": {
    "id": "hRpiEI2o4fK3"
   },
   "outputs": [],
   "source": [
    "# Creating a table from the data\n",
    "AttrDf = DataFrame({'Orig': YrOrigEmp,\n",
    "                    'Hires': YrHires,\n",
    "                    'Total': YearTotEmp,\n",
    "                    'Attr Rate': AttrRateList})"
   ]
  },
  {
   "cell_type": "code",
   "execution_count": 31,
   "metadata": {
    "colab": {
     "base_uri": "https://localhost:8080/",
     "height": 137
    },
    "id": "rP0VNjNG6AEp",
    "outputId": "3c2e00bf-0f57-4d1e-da87-aedbeac1dc78"
   },
   "outputs": [
    {
     "data": {
      "text/html": [
       "<div>\n",
       "<style scoped>\n",
       "    .dataframe tbody tr th:only-of-type {\n",
       "        vertical-align: middle;\n",
       "    }\n",
       "\n",
       "    .dataframe tbody tr th {\n",
       "        vertical-align: top;\n",
       "    }\n",
       "\n",
       "    .dataframe thead th {\n",
       "        text-align: right;\n",
       "    }\n",
       "</style>\n",
       "<table border=\"1\" class=\"dataframe\">\n",
       "  <thead>\n",
       "    <tr style=\"text-align: right;\">\n",
       "      <th></th>\n",
       "      <th>Orig</th>\n",
       "      <th>Hires</th>\n",
       "      <th>Total</th>\n",
       "      <th>Attr Rate</th>\n",
       "    </tr>\n",
       "  </thead>\n",
       "  <tbody>\n",
       "    <tr>\n",
       "      <th>0</th>\n",
       "      <td>405</td>\n",
       "      <td>0</td>\n",
       "      <td>405</td>\n",
       "      <td>0.00</td>\n",
       "    </tr>\n",
       "    <tr>\n",
       "      <th>1</th>\n",
       "      <td>199</td>\n",
       "      <td>175</td>\n",
       "      <td>374</td>\n",
       "      <td>7.96</td>\n",
       "    </tr>\n",
       "    <tr>\n",
       "      <th>2</th>\n",
       "      <td>182</td>\n",
       "      <td>162</td>\n",
       "      <td>344</td>\n",
       "      <td>8.36</td>\n",
       "    </tr>\n",
       "  </tbody>\n",
       "</table>\n",
       "</div>"
      ],
      "text/plain": [
       "   Orig  Hires  Total  Attr Rate\n",
       "0   405      0    405       0.00\n",
       "1   199    175    374       7.96\n",
       "2   182    162    344       8.36"
      ]
     },
     "execution_count": 31,
     "metadata": {},
     "output_type": "execute_result"
    }
   ],
   "source": [
    "# Attrition Table\n",
    "AttrDf"
   ]
  },
  {
   "cell_type": "code",
   "execution_count": null,
   "metadata": {},
   "outputs": [],
   "source": []
  }
 ],
 "metadata": {
  "colab": {
   "collapsed_sections": [],
   "name": "SanDisk Attrition - Data Cleansing and Analysis.ipynb",
   "provenance": []
  },
  "kernelspec": {
   "display_name": "Python 3",
   "language": "python",
   "name": "python3"
  },
  "language_info": {
   "codemirror_mode": {
    "name": "ipython",
    "version": 3
   },
   "file_extension": ".py",
   "mimetype": "text/x-python",
   "name": "python",
   "nbconvert_exporter": "python",
   "pygments_lexer": "ipython3",
   "version": "3.7.6"
  }
 },
 "nbformat": 4,
 "nbformat_minor": 1
}
